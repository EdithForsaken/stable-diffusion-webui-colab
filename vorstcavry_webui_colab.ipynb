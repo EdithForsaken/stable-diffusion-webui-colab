{
  "cells": [
    {
      "cell_type": "markdown",
      "metadata": {
        "id": "view-in-github",
        "colab_type": "text"
      },
      "source": [
        "<a href=\"https://colab.research.google.com/github/EdithForsaken/stable-diffusion-webui-colab/blob/main/vorstcavry_webui_colab.ipynb\" target=\"_parent\"><img src=\"https://colab.research.google.com/assets/colab-badge.svg\" alt=\"Open In Colab\"/></a>"
      ]
    },
    {
      "cell_type": "code",
      "execution_count": null,
      "metadata": {
        "id": "EKLIRZBTbYt1"
      },
      "outputs": [],
      "source": [
        "%cd /content\n",
        "\n",
        "%env TF_CPP_MIN_LOG_LEVEL=1\n",
        "\n",
        "!apt -y update -qq\n",
        "!wget https://github.com/camenduru/gperftools/releases/download/v1.0/libtcmalloc_minimal.so.4 -O /content/libtcmalloc_minimal.so.4\n",
        "%env LD_PRELOAD=/content/libtcmalloc_minimal.so.4\n",
        "\n",
        "!apt -y install -qq aria2 libcairo2-dev pkg-config python3-dev\n",
        "!pip install -q torch==2.0.1+cu118 torchvision==0.15.2+cu118 torchaudio==2.0.2+cu118 torchtext==0.15.2 torchdata==0.6.1 --extra-index-url https://download.pytorch.org/whl/cu118 -U\n",
        "!pip install -q xformers==0.0.20 triton==2.0.0 gradio_client==0.2.7 -U\n",
        "\n",
        "!git clone https://tinyurl.com/vorstcavry-remajapekalongan /content/vorst-cavry\n",
        "%cd /content/vorst-cavry\n",
        "!git checkout baf6946e06249c5af9851c60171692c44ef633e0\n",
        "!git clone https://github.com/vorstcavry/vorstcavry-tunnels /content/vorst-cavry/extensions/tunnels\n",
        "!aria2c --console-log-level=error -c -x 16 -s 16 -k 1M https://huggingface.co/embed/upscale/resolve/main/4x-UltraSharp.pth -d /content/vorst-cavry/models/ESRGAN -o 4x-UltraSharp.pth\n",
        "!wget https://raw.githubusercontent.com/vorstcavry/s-scripts/main/run_n_times.py -O /content/vorst-cavry/scripts/run_n_times.py\n",
        "#install-bahan-dasar\n",
        "!git clone https://github.com/vorstcavry/lora /content/vorst-cavry/models/Lora/Lora-set\n",
        "!git clone https://github.com/vorstcavry/embeddings /content/vorst-cavry/embeddings/negative\n",
        "#menghapus git\n",
        "!rm -rf /content/vorst-cavry/models/Stable-diffusion/Checkpoint-Model/.git\n",
        "!rm -rf /content/vorst-cavry/embeddings/negative/.git\n",
        "!rm -rf /content/vorst-cavry/models/Lora/Lora-set/.git\n",
        "#install-ekstension\n",
        "%cd /content/vorst-cavry/extensions\n",
        "!git clone https://github.com/BlafKing/sd-civitai-browser-plus\n",
        "!git clone https://github.com/vorstcavry/images-browser\n",
        "!git clone https://github.com/Iyashinouta/sd-model-downloader\n",
        "!git clone https://tinyurl.com/additional-networks-s\n",
        "!git clone https://github.com/NoCrypt/inpaint-nav\n",
        "!git clone https://tinyurl.com/tagcomplete-1111\n",
        "!git clone https://tinyurl.com/batchlink-download\n",
        "!git clone https://tinyurl.com/catppuccin-themes-v\n",
        "!git clone https://tinyurl.com/aspect-ratio-v\n",
        "!git clone https://tinyurl.com/huggingface-camenduru\n",
        "%cd /content/vorst-cavry\n",
        "!git reset --hard\n",
        "#install-Checkpoint\n",
        "!aria2c --console-log-level=error -c -x 16 -s 16 -k 1M https://huggingface.co/vorstcavry/mymodel/resolve/main/Cavry_V2.safetensors -d /content/vorst-cavry/models/Stable-diffusion -o Cavry_V2.safetensors\n",
        "#intsall-Preview-Checkpoint\n",
        "!aria2c --console-log-level=error -c -x 16 -s 16 -k 1M https://huggingface.co/vorstcavry/mymodel/resolve/main/Cavry_V2.preview.png -d /content/vorst-cavry/models/Stable-diffusion -o Cavry_V2.preview.png\n",
        "\n",
        "#install-vae-untuk-model-checkpoint-yang-akan-dipakai\n",
        "!aria2c --console-log-level=error -c -x 16 -s 16 -k 1M https://huggingface.co/stabilityai/sd-vae-ft-mse-original/resolve/main/vae-ft-mse-840000-ema-pruned.ckpt -d /content/vorst-cavry/models/VAE -o vae-ft-mse-840000-ema-pruned.ckpt\n",
        "\n",
        "#install-lora\n",
        "!aria2c --console-log-level=error -c -x 16 -s 16 -k 1M https://huggingface.co/vorstcavry/loraasia1/resolve/main/japaneseDollLikeness_v15.safetensors -d /content/vorst-cavry/models/Lora/Lora-set -o japaneseDollLikeness_v15.safetensors\n",
        "!aria2c --console-log-level=error -c -x 16 -s 16 -k 1M https://huggingface.co/vorstcavry/loraasia1/resolve/main/koreanDollLikeness_v20.safetensors -d /content/vorst-cavry/models/Lora/Lora-set -o koreanDollLikeness_v20.safetensors\n",
        "!aria2c --console-log-level=error -c -x 16 -s 16 -k 1M https://huggingface.co/vorstcavry/loraasia1/resolve/main/taiwanDollLikeness_v15.safetensors -d /content/vorst-cavry/models/Lora/Lora-set -o taiwanDollLikeness_v15.safetensors\n",
        "\n",
        "!sed -i -e '''/from modules import launch_utils/a\\import os''' /content/vorst-cavry/launch.py\n",
        "!sed -i -e '''/        prepare_environment()/a\\        os.system\\(f\\\"\"\"sed -i -e ''\\\"s/dict()))/dict())).cuda()/g\\\"'' /content/vorst-cavry/repositories/stable-diffusion-stability-ai/ldm/util.py\"\"\")''' /content/vorst-cavry/launch.py\n",
        "!sed -i -e 's/\\[\"sd_model_checkpoint\"\\]/\\[\"sd_model_checkpoint\",\"sd_vae\",\"CLIP_stop_at_last_layers\"\\]/g' /content/vorst-cavry/modules/shared.py\n",
        "\n",
        "!python launch.py --listen --xformers --enable-insecure-extension-access --theme dark --gradio-queue --multiple"
      ]
    }
  ],
  "metadata": {
    "accelerator": "GPU",
    "colab": {
      "private_outputs": true,
      "provenance": [],
      "include_colab_link": true
    },
    "gpuClass": "standard",
    "kernelspec": {
      "display_name": "Python 3",
      "language": "python",
      "name": "python3"
    },
    "language_info": {
      "name": "python",
      "version": "3.10.8"
    }
  },
  "nbformat": 4,
  "nbformat_minor": 0
}